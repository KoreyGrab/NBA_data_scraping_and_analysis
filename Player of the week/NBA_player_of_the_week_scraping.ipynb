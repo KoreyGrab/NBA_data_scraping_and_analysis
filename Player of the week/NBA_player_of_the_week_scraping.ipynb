{
 "cells": [
  {
   "cell_type": "markdown",
   "metadata": {},
   "source": [
    "### In the section below I scraped NBA player of the week award from the wonderful site 'basketball.realgm.com'"
   ]
  },
  {
   "cell_type": "code",
   "execution_count": 103,
   "metadata": {},
   "outputs": [],
   "source": [
    "import requests\n",
    "from bs4 import BeautifulSoup\n",
    "import pandas as pd\n",
    "\n",
    "player_of_the_week_data = {\n",
    " 'Last Season': [],  \n",
    " 'Player': [],\n",
    " 'Team': [],\n",
    " 'Conference': [],\n",
    " 'Date': [],\n",
    " 'Position': [],\n",
    " 'Height': [],\n",
    " 'Weight': [],\n",
    " 'Age': [],\n",
    " 'Draft Year': [],\n",
    " 'Seasons in league': [],\n",
    " 'Season': [],\n",
    " 'Season short': [],\n",
    " 'Pre-draft Team': []\n",
    "}\n"
   ]
  },
  {
   "cell_type": "code",
   "execution_count": 40,
   "metadata": {},
   "outputs": [],
   "source": [
    "player_of_the_week_url = 'https://basketball.realgm.com/nba/awards/by-type/Player-Of-The-Week/30'\n",
    "\n",
    "page = requests.get(player_of_the_week_url)\n",
    "soup = BeautifulSoup(page.text, 'html.parser')"
   ]
  },
  {
   "cell_type": "code",
   "execution_count": 41,
   "metadata": {},
   "outputs": [],
   "source": [
    "tables = soup.find_all('table')\n",
    "rows = tables[12].findAll('tr')[1:]"
   ]
  },
  {
   "cell_type": "code",
   "execution_count": 109,
   "metadata": {},
   "outputs": [],
   "source": [
    "from_year = 1979\n",
    "to_year = 2999\n",
    "\n",
    "for row in rows:\n",
    "    \n",
    "    cols = row.findAll('td')\n",
    "    season = cols[0].string\n",
    "    season_short = int(season[5:])\n",
    "    if season_short > from_year and season_short <= to_year:\n",
    "        player_of_the_week_data['Last Season'].append(0)\n",
    "        player_of_the_week_data['Player'].append(cols[1].string)\n",
    "        player_of_the_week_data['Team'].append(cols[4].text)\n",
    "        player_of_the_week_data['Conference'].append(cols[2].string)\n",
    "        player_of_the_week_data['Date'].append(cols[3].string)\n",
    "        player_of_the_week_data['Position'].append(cols[5].string)\n",
    "        player_of_the_week_data['Height'].append(cols[6].string.replace('-',\"'\"))\n",
    "        player_of_the_week_data['Weight'].append(cols[7].text)\n",
    "        player_of_the_week_data['Age'].append(cols[8].string)\n",
    "        player_of_the_week_data['Draft Year'].append(cols[10].string)\n",
    "        player_of_the_week_data['Seasons in league'].append(cols[11].string)\n",
    "        player_of_the_week_data['Season'].append(season)\n",
    "        player_of_the_week_data['Season short'].append(season_short)\n",
    "        player_of_the_week_data['Pre-draft Team'].append(cols[9].string)"
   ]
  },
  {
   "cell_type": "code",
   "execution_count": 110,
   "metadata": {},
   "outputs": [],
   "source": [
    "df_player_of_the_week = pd.DataFrame(player_of_the_week_data)\n",
    "\n",
    "\n",
    "# Assign last Year\n",
    "max_season = df_player_of_the_week['Season'].max()\n",
    "df_player_of_the_week['Last Season'] = df_player_of_the_week['Season'].apply(lambda x: 1 if x == max_season else 0)\n",
    "\n",
    "\n",
    "# if two awards given [east & west] on the same week the player gets 0.5 point,\n",
    "#,else gets 1 point\n",
    "df_player_of_the_week[\"Real_value\"] = df_player_of_the_week.apply(lambda pl: 0.5 if \n",
    "                                                                  pl[\"Conference\"] ==\"East\" or pl[\"Conference\"] == \"West\" else 1,axis=1)\n",
    "\n",
    "\n",
    "# weight pounds to KGs\n",
    "df_player_of_the_week['Height CM'] = df_player_of_the_week['Height'].apply(lambda x:\n",
    "                                                                           round(((float(x.split(\"'\")[0]) * 12) + float(x.split(\"'\")[1])) * 2.54))\n",
    "df_player_of_the_week['Weight KG'] = df_player_of_the_week['Weight'].apply(lambda x: int(int(x) * 0.454))\n",
    "\n",
    "\n",
    "df_player_of_the_week.to_csv('NBA_player_of_the_week.csv', index=False)"
   ]
  }
 ],
 "metadata": {
  "kernelspec": {
   "display_name": "Python 3",
   "language": "python",
   "name": "python3"
  },
  "language_info": {
   "codemirror_mode": {
    "name": "ipython",
    "version": 3
   },
   "file_extension": ".py",
   "mimetype": "text/x-python",
   "name": "python",
   "nbconvert_exporter": "python",
   "pygments_lexer": "ipython3",
   "version": "3.7.3"
  }
 },
 "nbformat": 4,
 "nbformat_minor": 2
}
