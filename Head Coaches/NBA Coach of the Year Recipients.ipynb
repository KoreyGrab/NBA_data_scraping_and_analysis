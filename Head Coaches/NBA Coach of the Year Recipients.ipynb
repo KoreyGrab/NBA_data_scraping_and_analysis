{
 "cells": [
  {
   "cell_type": "code",
   "execution_count": null,
   "metadata": {},
   "outputs": [],
   "source": [
    "import requests\n",
    "from bs4 import BeautifulSoup\n",
    "import pandas as pd"
   ]
  },
  {
   "cell_type": "markdown",
   "metadata": {},
   "source": [
    "set dictionary for data collecting"
   ]
  },
  {
   "cell_type": "code",
   "execution_count": null,
   "metadata": {},
   "outputs": [],
   "source": [
    "head_coaches_of_the_year_dict = {\n",
    " 'Season': [],\n",
    " 'Person': [],\n",
    " 'Team': [],\n",
    " 'Age': [],\n",
    " 'Nationality': []\n",
    "}"
   ]
  },
  {
   "cell_type": "markdown",
   "metadata": {},
   "source": [
    "collect data from the site"
   ]
  },
  {
   "cell_type": "code",
   "execution_count": null,
   "metadata": {},
   "outputs": [],
   "source": [
    "head_coaches_of_the_year_url = 'https://basketball.realgm.com/nba/awards/by-type/Coach-of-the-Year/9001'\n",
    "  \n",
    "page = requests.get(head_coaches_of_the_year_url)\n",
    "soup = BeautifulSoup(page.text, 'html.parser')\n",
    "tables = soup.find_all('table')\n",
    "rows = tables[2].findAll('tr')[1:]\n",
    "\n",
    "for row in rows:\n",
    "    cols = row.findAll('td')\n",
    "    head_coaches_of_the_year_dict['Season'].append(cols[0].string)\n",
    "    head_coaches_of_the_year_dict['Person'].append(cols[1].string)\n",
    "    head_coaches_of_the_year_dict['Team'].append(cols[2].string)\n",
    "    head_coaches_of_the_year_dict['Age'].append(cols[3].string)\n",
    "    head_coaches_of_the_year_dict['Nationality'].append(cols[4].string)\n",
    "    \n",
    "df_head_coaches_of_the_year = pd.DataFrame(head_coaches_of_the_year_dict)"
   ]
  },
  {
   "cell_type": "markdown",
   "metadata": {},
   "source": [
    "Edit & Add columns for future analysis, and save DataFrame to csv file"
   ]
  },
  {
   "cell_type": "code",
   "execution_count": null,
   "metadata": {},
   "outputs": [],
   "source": [
    "df_head_coaches_of_the_year = df_head_coaches_of_the_year.replace('N/A','')\n",
    "df_head_coaches_of_the_year['Season Short'] = df_head_coaches_of_the_year['Season'].str[:4]"
   ]
  },
  {
   "cell_type": "code",
   "execution_count": null,
   "metadata": {},
   "outputs": [],
   "source": [
    "df_head_coaches_of_the_year.to_csv('NBA_coach_of_the_year.csv', index=False)"
   ]
  }
 ],
 "metadata": {
  "kernelspec": {
   "display_name": "Python 3",
   "language": "python",
   "name": "python3"
  },
  "language_info": {
   "codemirror_mode": {
    "name": "ipython",
    "version": 3
   },
   "file_extension": ".py",
   "mimetype": "text/x-python",
   "name": "python",
   "nbconvert_exporter": "python",
   "pygments_lexer": "ipython3",
   "version": "3.7.4"
  }
 },
 "nbformat": 4,
 "nbformat_minor": 2
}
