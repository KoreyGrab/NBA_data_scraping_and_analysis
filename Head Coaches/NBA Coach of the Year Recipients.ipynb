{
 "cells": [
  {
   "cell_type": "code",
   "execution_count": null,
   "metadata": {},
   "outputs": [],
   "source": [
    "import requests\n",
    "from bs4 import BeautifulSoup\n",
    "import pandas as pd"
   ]
  },
  {
   "cell_type": "markdown",
   "metadata": {},
   "source": [
    "set dictionary for data collecting"
   ]
  },
  {
   "cell_type": "code",
   "execution_count": null,
   "metadata": {},
   "outputs": [],
   "source": [
    "head_coaches_of_the_year_dict = {\n",
    " 'Year': [],\n",
    " 'Coach': [],\n",
    " 'Coach URL': [],\n",
    " 'Team': [],\n",
    " 'W-L': [],\n",
    " 'Playoffs W-L': [],\n",
    " 'Career W-L': [],\n",
    " 'Exp [Years]': []\n",
    "}"
   ]
  },
  {
   "cell_type": "markdown",
   "metadata": {},
   "source": [
    "collect Coach of The Year Award data from site"
   ]
  },
  {
   "cell_type": "code",
   "execution_count": null,
   "metadata": {},
   "outputs": [],
   "source": [
    "head_coaches_of_the_year_url = 'http://www.espn.com/nba/history/awards/_/id/34'\n",
    "  \n",
    "page = requests.get(head_coaches_of_the_year_url)\n",
    "soup = BeautifulSoup(page.text, 'html.parser')\n",
    "tables = soup.find_all('table')\n",
    "rows = tables[0].findAll('tr')[2:]"
   ]
  },
  {
   "cell_type": "code",
   "execution_count": null,
   "metadata": {},
   "outputs": [],
   "source": []
  },
  {
   "cell_type": "markdown",
   "metadata": {},
   "source": [
    "set data into dictionary and then to dataframe"
   ]
  },
  {
   "cell_type": "code",
   "execution_count": null,
   "metadata": {},
   "outputs": [],
   "source": [
    "for row in rows:\n",
    "    cols = row.findAll('td')\n",
    "\n",
    "    head_coaches_of_the_year_dict['Year'].append(cols[0].string)\n",
    "    head_coaches_of_the_year_dict['Coach'].append(cols[1].string)\n",
    "    head_coaches_of_the_year_dict['Coach URL'].append(cols[1].find_all('a', href=True)[0]['href'])\n",
    "    head_coaches_of_the_year_dict['Team'].append(cols[2].string)\n",
    "    head_coaches_of_the_year_dict['W-L'].append(cols[3].string)\n",
    "    head_coaches_of_the_year_dict['Playoffs W-L'].append(cols[4].string)\n",
    "    head_coaches_of_the_year_dict['Career W-L'].append(cols[5].string)\n",
    "    head_coaches_of_the_year_dict['Exp [Years]'].append(cols[6].string.split()[0])\n",
    "    \n",
    "df_head_coaches_of_the_year = pd.DataFrame(head_coaches_of_the_year_dict)"
   ]
  },
  {
   "cell_type": "code",
   "execution_count": null,
   "metadata": {},
   "outputs": [],
   "source": [
    "df_head_coaches_of_the_year['W'] = df_head_coaches_of_the_year['W-L'].apply(lambda x: x.split('-')[0])\n",
    "df_head_coaches_of_the_year['L'] = df_head_coaches_of_the_year['W-L'].apply(lambda x: x.split('-')[1])\n",
    "df_head_coaches_of_the_year['Playoffs W'] = df_head_coaches_of_the_year['Playoffs W-L'].apply(lambda x: x.split('-')[0] if x is not None else '')\n",
    "df_head_coaches_of_the_year['Playoffs L'] = df_head_coaches_of_the_year['Playoffs W-L'].apply(lambda x: x.split('-')[1] if x is not None else '')\n",
    "df_head_coaches_of_the_year['Career W'] = df_head_coaches_of_the_year['Career W-L'].apply(lambda x: x.split('-')[0] if x is not None else '')\n",
    "df_head_coaches_of_the_year['Career L'] = df_head_coaches_of_the_year['Career W-L'].apply(lambda x: x.split('-')[1] if x is not None else '')"
   ]
  },
  {
   "cell_type": "markdown",
   "metadata": {},
   "source": [
    "Add Coaches Details from Site"
   ]
  },
  {
   "cell_type": "code",
   "execution_count": null,
   "metadata": {},
   "outputs": [],
   "source": [
    "def get_coach_details(i_coach_url):  \n",
    "\n",
    "    output_dict = {}\n",
    "\n",
    "    head_coach_data_url = 'http://www.espn.com' + i_coach_url\n",
    "    page = requests.get(head_coach_data_url)\n",
    "    soup = BeautifulSoup(page.text, 'html.parser')\n",
    "\n",
    "    tables = soup.find_all('table')\n",
    "    rows = tables[0].findAll('tr')[3:]\n",
    "\n",
    "    output_dict['Born'] = rows[0].text[4:]\n",
    "    output_dict['Birthplace'] = rows[1].text[10:]\n",
    "    output_dict['Experience'] = rows[2].text[10:].split()[0]\n",
    "    output_dict['College'] = rows[3].text[7:].replace('--','')\n",
    "    output_dict['Overall Record'] = rows[4].text[6:]\n",
    "\n",
    "    return output_dict\n",
    "    "
   ]
  },
  {
   "cell_type": "code",
   "execution_count": null,
   "metadata": {},
   "outputs": [],
   "source": [
    "df_head_coaches_of_the_year['Born'] = None\n",
    "df_head_coaches_of_the_year['Birthplace'] = None\n",
    "df_head_coaches_of_the_year['College'] = None\n",
    "df_head_coaches_of_the_year['Overall Record'] = None\n",
    "\n",
    "for index, row in df_head_coaches_of_the_year.iterrows():\n",
    "    coach_dict_details = get_coach_details(row['Coach URL'])\n",
    "    \n",
    "    df_head_coaches_of_the_year.iloc[index]['Born'] = coach_dict_details['Born']\n",
    "    df_head_coaches_of_the_year.iloc[index]['Birthplace'] = coach_dict_details['Birthplace']\n",
    "    df_head_coaches_of_the_year.iloc[index]['College'] = coach_dict_details['College']\n",
    "    df_head_coaches_of_the_year.iloc[index]['Overall Record'] = coach_dict_details['Overall Record']\n",
    "\n",
    "df_head_coaches_of_the_year.drop('Coach URL', axis=1, inplace=True)"
   ]
  },
  {
   "cell_type": "markdown",
   "metadata": {},
   "source": [
    "save DataFrame to csv file"
   ]
  },
  {
   "cell_type": "code",
   "execution_count": null,
   "metadata": {},
   "outputs": [],
   "source": [
    "df_head_coaches_of_the_year.to_csv('NBA_coach_of_the_year.csv', index=False)"
   ]
  }
 ],
 "metadata": {
  "kernelspec": {
   "display_name": "Python 3",
   "language": "python",
   "name": "python3"
  },
  "language_info": {
   "codemirror_mode": {
    "name": "ipython",
    "version": 3
   },
   "file_extension": ".py",
   "mimetype": "text/x-python",
   "name": "python",
   "nbconvert_exporter": "python",
   "pygments_lexer": "ipython3",
   "version": "3.8.2"
  }
 },
 "nbformat": 4,
 "nbformat_minor": 2
}
